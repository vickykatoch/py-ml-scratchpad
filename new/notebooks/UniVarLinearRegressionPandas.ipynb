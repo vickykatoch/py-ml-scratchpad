{
 "cells": [
  {
   "cell_type": "code",
   "execution_count": 60,
   "metadata": {},
   "outputs": [],
   "source": [
    "import numpy as np\n",
    "import pandas as pd\n",
    "import matplotlib.pyplot as plt"
   ]
  },
  {
   "cell_type": "code",
   "execution_count": 86,
   "metadata": {},
   "outputs": [],
   "source": [
    "df = pd.read_csv('../../data/housing-data.csv');\n",
    "m = len(df)"
   ]
  },
  {
   "cell_type": "code",
   "execution_count": 27,
   "metadata": {},
   "outputs": [
    {
     "name": "stdout",
     "output_type": "stream",
     "text": [
      "Observations : 1460, xMean : 10516.828082191782, yMean: 180921.19589041095, XStdDev : 9981.264932379147, yStdDev : 79442.50288288663\n"
     ]
    }
   ],
   "source": [
    "x_mean = np.mean(df.LotArea)\n",
    "y_mean = np.mean(df.SalePrice)\n",
    "x_sd = df.LotArea.std()\n",
    "y_sd = df.SalePrice.std()\n",
    "print(f'Observations : {m}, xMean : {x_mean}, yMean: {y_mean}, XStdDev : {x_sd}, yStdDev : {y_sd}')"
   ]
  },
  {
   "cell_type": "code",
   "execution_count": 33,
   "metadata": {},
   "outputs": [
    {
     "data": {
      "text/html": [
       "<div>\n",
       "<style scoped>\n",
       "    .dataframe tbody tr th:only-of-type {\n",
       "        vertical-align: middle;\n",
       "    }\n",
       "\n",
       "    .dataframe tbody tr th {\n",
       "        vertical-align: top;\n",
       "    }\n",
       "\n",
       "    .dataframe thead th {\n",
       "        text-align: right;\n",
       "    }\n",
       "</style>\n",
       "<table border=\"1\" class=\"dataframe\">\n",
       "  <thead>\n",
       "    <tr style=\"text-align: right;\">\n",
       "      <th></th>\n",
       "      <th>LotArea</th>\n",
       "      <th>SalePrice</th>\n",
       "      <th>xZscore</th>\n",
       "      <th>yZscore</th>\n",
       "    </tr>\n",
       "  </thead>\n",
       "  <tbody>\n",
       "    <tr>\n",
       "      <th>count</th>\n",
       "      <td>1460.000000</td>\n",
       "      <td>1460.000000</td>\n",
       "      <td>1.460000e+03</td>\n",
       "      <td>1.460000e+03</td>\n",
       "    </tr>\n",
       "    <tr>\n",
       "      <th>mean</th>\n",
       "      <td>10516.828082</td>\n",
       "      <td>180921.195890</td>\n",
       "      <td>7.585257e-17</td>\n",
       "      <td>-1.190828e-15</td>\n",
       "    </tr>\n",
       "    <tr>\n",
       "      <th>std</th>\n",
       "      <td>9981.264932</td>\n",
       "      <td>79442.502883</td>\n",
       "      <td>1.000000e+00</td>\n",
       "      <td>7.959162e+00</td>\n",
       "    </tr>\n",
       "    <tr>\n",
       "      <th>min</th>\n",
       "      <td>1300.000000</td>\n",
       "      <td>34900.000000</td>\n",
       "      <td>-2.051125e+01</td>\n",
       "      <td>-5.751564e+01</td>\n",
       "    </tr>\n",
       "    <tr>\n",
       "      <th>25%</th>\n",
       "      <td>7553.500000</td>\n",
       "      <td>129975.000000</td>\n",
       "      <td>-1.086708e-01</td>\n",
       "      <td>-3.314089e+00</td>\n",
       "    </tr>\n",
       "    <tr>\n",
       "      <th>50%</th>\n",
       "      <td>9478.500000</td>\n",
       "      <td>163000.000000</td>\n",
       "      <td>1.040277e-01</td>\n",
       "      <td>1.795483e+00</td>\n",
       "    </tr>\n",
       "    <tr>\n",
       "      <th>75%</th>\n",
       "      <td>11601.500000</td>\n",
       "      <td>214000.000000</td>\n",
       "      <td>2.968890e-01</td>\n",
       "      <td>5.104182e+00</td>\n",
       "    </tr>\n",
       "    <tr>\n",
       "      <th>max</th>\n",
       "      <td>215245.000000</td>\n",
       "      <td>755000.000000</td>\n",
       "      <td>9.234128e-01</td>\n",
       "      <td>1.462953e+01</td>\n",
       "    </tr>\n",
       "  </tbody>\n",
       "</table>\n",
       "</div>"
      ],
      "text/plain": [
       "             LotArea      SalePrice       xZscore       yZscore\n",
       "count    1460.000000    1460.000000  1.460000e+03  1.460000e+03\n",
       "mean    10516.828082  180921.195890  7.585257e-17 -1.190828e-15\n",
       "std      9981.264932   79442.502883  1.000000e+00  7.959162e+00\n",
       "min      1300.000000   34900.000000 -2.051125e+01 -5.751564e+01\n",
       "25%      7553.500000  129975.000000 -1.086708e-01 -3.314089e+00\n",
       "50%      9478.500000  163000.000000  1.040277e-01  1.795483e+00\n",
       "75%     11601.500000  214000.000000  2.968890e-01  5.104182e+00\n",
       "max    215245.000000  755000.000000  9.234128e-01  1.462953e+01"
      ]
     },
     "execution_count": 33,
     "metadata": {},
     "output_type": "execute_result"
    }
   ],
   "source": [
    "df.describe() "
   ]
  },
  {
   "cell_type": "code",
   "execution_count": 18,
   "metadata": {},
   "outputs": [
    {
     "data": {
      "image/png": "[encoded data removed]",
      "text/plain": [
       "<Figure size 432x288 with 1 Axes>"
      ]
     },
     "metadata": {
      "needs_background": "light"
     },
     "output_type": "display_data"
    }
   ],
   "source": [
    "df.plot(x='LotArea', y='SalePrice',kind='scatter');"
   ]
  },
  {
   "cell_type": "code",
   "execution_count": 56,
   "metadata": {},
   "outputs": [],
   "source": [
    "df['xZscore']= (x_mean - df.LotArea)/x_sd\n",
    "df['yZscore']= (y_mean - df.SalePrice)/y_sd\n",
    "cor_coff = (df.xZscore * df.yZscore).sum()/m\n",
    "slope_m = cor_coff * y_sd/x_sd\n",
    "intercept_b = y_mean - slope_m*x_mean"
   ]
  },
  {
   "cell_type": "code",
   "execution_count": 58,
   "metadata": {},
   "outputs": [],
   "source": [
    "df['Predicted'] =slope_m*df.LotArea+intercept_b"
   ]
  },
  {
   "cell_type": "code",
   "execution_count": 61,
   "metadata": {},
   "outputs": [
    {
     "data": {
      "text/html": [
       "<div>\n",
       "<style scoped>\n",
       "    .dataframe tbody tr th:only-of-type {\n",
       "        vertical-align: middle;\n",
       "    }\n",
       "\n",
       "    .dataframe tbody tr th {\n",
       "        vertical-align: top;\n",
       "    }\n",
       "\n",
       "    .dataframe thead th {\n",
       "        text-align: right;\n",
       "    }\n",
       "</style>\n",
       "<table border=\"1\" class=\"dataframe\">\n",
       "  <thead>\n",
       "    <tr style=\"text-align: right;\">\n",
       "      <th></th>\n",
       "      <th>LotArea</th>\n",
       "      <th>SalePrice</th>\n",
       "      <th>xZscore</th>\n",
       "      <th>yZscore</th>\n",
       "      <th>Predicted</th>\n",
       "    </tr>\n",
       "  </thead>\n",
       "  <tbody>\n",
       "    <tr>\n",
       "      <th>0</th>\n",
       "      <td>8450</td>\n",
       "      <td>208500</td>\n",
       "      <td>0.207071</td>\n",
       "      <td>-0.347154</td>\n",
       "      <td>176583.887684</td>\n",
       "    </tr>\n",
       "    <tr>\n",
       "      <th>1</th>\n",
       "      <td>9600</td>\n",
       "      <td>181500</td>\n",
       "      <td>0.091855</td>\n",
       "      <td>-0.007286</td>\n",
       "      <td>178997.201341</td>\n",
       "    </tr>\n",
       "    <tr>\n",
       "      <th>2</th>\n",
       "      <td>11250</td>\n",
       "      <td>223500</td>\n",
       "      <td>-0.073455</td>\n",
       "      <td>-0.535970</td>\n",
       "      <td>182459.781805</td>\n",
       "    </tr>\n",
       "    <tr>\n",
       "      <th>3</th>\n",
       "      <td>9550</td>\n",
       "      <td>140000</td>\n",
       "      <td>0.096864</td>\n",
       "      <td>0.515105</td>\n",
       "      <td>178892.274660</td>\n",
       "    </tr>\n",
       "    <tr>\n",
       "      <th>4</th>\n",
       "      <td>14260</td>\n",
       "      <td>250000</td>\n",
       "      <td>-0.375020</td>\n",
       "      <td>-0.869545</td>\n",
       "      <td>188776.367986</td>\n",
       "    </tr>\n",
       "    <tr>\n",
       "      <th>...</th>\n",
       "      <td>...</td>\n",
       "      <td>...</td>\n",
       "      <td>...</td>\n",
       "      <td>...</td>\n",
       "      <td>...</td>\n",
       "    </tr>\n",
       "    <tr>\n",
       "      <th>1455</th>\n",
       "      <td>7917</td>\n",
       "      <td>175000</td>\n",
       "      <td>0.260471</td>\n",
       "      <td>0.074534</td>\n",
       "      <td>175465.369267</td>\n",
       "    </tr>\n",
       "    <tr>\n",
       "      <th>1456</th>\n",
       "      <td>13175</td>\n",
       "      <td>210000</td>\n",
       "      <td>-0.266316</td>\n",
       "      <td>-0.366036</td>\n",
       "      <td>186499.459014</td>\n",
       "    </tr>\n",
       "    <tr>\n",
       "      <th>1457</th>\n",
       "      <td>9042</td>\n",
       "      <td>266500</td>\n",
       "      <td>0.147760</td>\n",
       "      <td>-1.077242</td>\n",
       "      <td>177826.219584</td>\n",
       "    </tr>\n",
       "    <tr>\n",
       "      <th>1458</th>\n",
       "      <td>9717</td>\n",
       "      <td>142125</td>\n",
       "      <td>0.080133</td>\n",
       "      <td>0.488356</td>\n",
       "      <td>179242.729774</td>\n",
       "    </tr>\n",
       "    <tr>\n",
       "      <th>1459</th>\n",
       "      <td>9937</td>\n",
       "      <td>147500</td>\n",
       "      <td>0.058092</td>\n",
       "      <td>0.420697</td>\n",
       "      <td>179704.407169</td>\n",
       "    </tr>\n",
       "  </tbody>\n",
       "</table>\n",
       "<p>1460 rows × 5 columns</p>\n",
       "</div>"
      ],
      "text/plain": [
       "      LotArea  SalePrice   xZscore   yZscore      Predicted\n",
       "0        8450     208500  0.207071 -0.347154  176583.887684\n",
       "1        9600     181500  0.091855 -0.007286  178997.201341\n",
       "2       11250     223500 -0.073455 -0.535970  182459.781805\n",
       "3        9550     140000  0.096864  0.515105  178892.274660\n",
       "4       14260     250000 -0.375020 -0.869545  188776.367986\n",
       "...       ...        ...       ...       ...            ...\n",
       "1455     7917     175000  0.260471  0.074534  175465.369267\n",
       "1456    13175     210000 -0.266316 -0.366036  186499.459014\n",
       "1457     9042     266500  0.147760 -1.077242  177826.219584\n",
       "1458     9717     142125  0.080133  0.488356  179242.729774\n",
       "1459     9937     147500  0.058092  0.420697  179704.407169\n",
       "\n",
       "[1460 rows x 5 columns]"
      ]
     },
     "execution_count": 61,
     "metadata": {},
     "output_type": "execute_result"
    }
   ],
   "source": [
    "df"
   ]
  },
  {
   "cell_type": "code",
   "execution_count": 73,
   "metadata": {},
   "outputs": [
    {
     "data": {
      "image/png": "[encoded data removed]",
      "text/plain": [
       "<Figure size 432x288 with 1 Axes>"
      ]
     },
     "metadata": {
      "needs_background": "light"
     },
     "output_type": "display_data"
    }
   ],
   "source": [
    "plt.scatter(df.LotArea, df.SalePrice)\n",
    "plt.xlabel('Area')\n",
    "plt.ylabel('Cost')\n",
    "plt.title(f'{slope_m}.x + {intercept_b}')\n",
    "plt.plot(df.LotArea, df.Predicted, color='g');"
   ]
  },
  {
   "cell_type": "code",
   "execution_count": 75,
   "metadata": {},
   "outputs": [
    {
     "data": {
      "text/html": [
       "<div>\n",
       "<style scoped>\n",
       "    .dataframe tbody tr th:only-of-type {\n",
       "        vertical-align: middle;\n",
       "    }\n",
       "\n",
       "    .dataframe tbody tr th {\n",
       "        vertical-align: top;\n",
       "    }\n",
       "\n",
       "    .dataframe thead th {\n",
       "        text-align: right;\n",
       "    }\n",
       "</style>\n",
       "<table border=\"1\" class=\"dataframe\">\n",
       "  <thead>\n",
       "    <tr style=\"text-align: right;\">\n",
       "      <th></th>\n",
       "      <th>LotArea</th>\n",
       "      <th>SalePrice</th>\n",
       "      <th>xZscore</th>\n",
       "      <th>yZscore</th>\n",
       "      <th>Predicted</th>\n",
       "    </tr>\n",
       "  </thead>\n",
       "  <tbody>\n",
       "    <tr>\n",
       "      <th>count</th>\n",
       "      <td>1460.000000</td>\n",
       "      <td>1460.000000</td>\n",
       "      <td>1.460000e+03</td>\n",
       "      <td>1.460000e+03</td>\n",
       "      <td>1460.000000</td>\n",
       "    </tr>\n",
       "    <tr>\n",
       "      <th>mean</th>\n",
       "      <td>10516.828082</td>\n",
       "      <td>180921.195890</td>\n",
       "      <td>7.585257e-17</td>\n",
       "      <td>-1.102999e-16</td>\n",
       "      <td>180921.195890</td>\n",
       "    </tr>\n",
       "    <tr>\n",
       "      <th>std</th>\n",
       "      <td>9981.264932</td>\n",
       "      <td>79442.502883</td>\n",
       "      <td>1.000000e+00</td>\n",
       "      <td>1.000000e+00</td>\n",
       "      <td>20946.019978</td>\n",
       "    </tr>\n",
       "    <tr>\n",
       "      <th>min</th>\n",
       "      <td>1300.000000</td>\n",
       "      <td>34900.000000</td>\n",
       "      <td>-2.051125e+01</td>\n",
       "      <td>-7.226343e+00</td>\n",
       "      <td>161579.372339</td>\n",
       "    </tr>\n",
       "    <tr>\n",
       "      <th>25%</th>\n",
       "      <td>7553.500000</td>\n",
       "      <td>129975.000000</td>\n",
       "      <td>-1.086708e-01</td>\n",
       "      <td>-4.163867e-01</td>\n",
       "      <td>174702.552298</td>\n",
       "    </tr>\n",
       "    <tr>\n",
       "      <th>50%</th>\n",
       "      <td>9478.500000</td>\n",
       "      <td>163000.000000</td>\n",
       "      <td>1.040277e-01</td>\n",
       "      <td>2.255870e-01</td>\n",
       "      <td>178742.229507</td>\n",
       "    </tr>\n",
       "    <tr>\n",
       "      <th>75%</th>\n",
       "      <td>11601.500000</td>\n",
       "      <td>214000.000000</td>\n",
       "      <td>2.968890e-01</td>\n",
       "      <td>6.412965e-01</td>\n",
       "      <td>183197.416371</td>\n",
       "    </tr>\n",
       "    <tr>\n",
       "      <th>max</th>\n",
       "      <td>215245.000000</td>\n",
       "      <td>755000.000000</td>\n",
       "      <td>9.234128e-01</td>\n",
       "      <td>1.838074e+00</td>\n",
       "      <td>610550.146547</td>\n",
       "    </tr>\n",
       "  </tbody>\n",
       "</table>\n",
       "</div>"
      ],
      "text/plain": [
       "             LotArea      SalePrice       xZscore       yZscore      Predicted\n",
       "count    1460.000000    1460.000000  1.460000e+03  1.460000e+03    1460.000000\n",
       "mean    10516.828082  180921.195890  7.585257e-17 -1.102999e-16  180921.195890\n",
       "std      9981.264932   79442.502883  1.000000e+00  1.000000e+00   20946.019978\n",
       "min      1300.000000   34900.000000 -2.051125e+01 -7.226343e+00  161579.372339\n",
       "25%      7553.500000  129975.000000 -1.086708e-01 -4.163867e-01  174702.552298\n",
       "50%      9478.500000  163000.000000  1.040277e-01  2.255870e-01  178742.229507\n",
       "75%     11601.500000  214000.000000  2.968890e-01  6.412965e-01  183197.416371\n",
       "max    215245.000000  755000.000000  9.234128e-01  1.838074e+00  610550.146547"
      ]
     },
     "execution_count": 75,
     "metadata": {},
     "output_type": "execute_result"
    }
   ],
   "source": [
    "df.describe()"
   ]
  },
  {
   "cell_type": "code",
   "execution_count": 93,
   "metadata": {},
   "outputs": [
    {
     "data": {
      "text/plain": [
       "158851.2786393379"
      ]
     },
     "execution_count": 93,
     "metadata": {},
     "output_type": "execute_result"
    }
   ],
   "source": [
    "intercept_b"
   ]
  }
 ],
 "metadata": {
  "kernelspec": {
   "display_name": "Python 3",
   "language": "python",
   "name": "python3"
  },
  "language_info": {
   "codemirror_mode": {
    "name": "ipython",
    "version": 3
   },
   "file_extension": ".py",
   "mimetype": "text/x-python",
   "name": "python",
   "nbconvert_exporter": "python",
   "pygments_lexer": "ipython3",
   "version": "3.8.3"
  }
 },
 "nbformat": 4,
 "nbformat_minor": 4
}
