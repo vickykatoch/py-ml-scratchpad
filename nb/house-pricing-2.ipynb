{
 "cells": [
  {
   "cell_type": "code",
   "execution_count": 21,
   "metadata": {},
   "outputs": [],
   "source": [
    "import pandas as pd\n",
    "import numpy as np\n",
    "import matplotlib.pyplot as plt\n",
    "plt.style.use('fivethirtyeight')\n",
    "# Internal ipython tool for setting figure size\n",
    "from IPython.core.pylabtools import figsize\n",
    "pd.options.display.float_format = '{:,.6f}'.format\n",
    "np.set_printoptions(precision=15,suppress=True)"
   ]
  },
  {
   "cell_type": "code",
   "execution_count": 22,
   "metadata": {},
   "outputs": [],
   "source": [
    "columns = ['CRIM','ZN','INDUS','CHAS','NOX','RM','AGE','DIS','RAD','TAX','PTRATIO','B','LSTAT','MEDV']\n",
    "df = pd.read_csv('../data/housing.data', header=None, names=columns, sep='\\s+')"
   ]
  },
  {
   "cell_type": "code",
   "execution_count": 23,
   "metadata": {},
   "outputs": [
    {
     "data": {
      "text/html": [
       "<div>\n",
       "<style scoped>\n",
       "    .dataframe tbody tr th:only-of-type {\n",
       "        vertical-align: middle;\n",
       "    }\n",
       "\n",
       "    .dataframe tbody tr th {\n",
       "        vertical-align: top;\n",
       "    }\n",
       "\n",
       "    .dataframe thead th {\n",
       "        text-align: right;\n",
       "    }\n",
       "</style>\n",
       "<table border=\"1\" class=\"dataframe\">\n",
       "  <thead>\n",
       "    <tr style=\"text-align: right;\">\n",
       "      <th></th>\n",
       "      <th>CRIM</th>\n",
       "      <th>ZN</th>\n",
       "      <th>INDUS</th>\n",
       "      <th>CHAS</th>\n",
       "      <th>NOX</th>\n",
       "      <th>RM</th>\n",
       "      <th>AGE</th>\n",
       "      <th>DIS</th>\n",
       "      <th>RAD</th>\n",
       "      <th>TAX</th>\n",
       "      <th>PTRATIO</th>\n",
       "      <th>B</th>\n",
       "      <th>LSTAT</th>\n",
       "      <th>MEDV</th>\n",
       "    </tr>\n",
       "  </thead>\n",
       "  <tbody>\n",
       "    <tr>\n",
       "      <th>0</th>\n",
       "      <td>0.006320</td>\n",
       "      <td>18.000000</td>\n",
       "      <td>2.310000</td>\n",
       "      <td>0</td>\n",
       "      <td>0.538000</td>\n",
       "      <td>6.575000</td>\n",
       "      <td>65.200000</td>\n",
       "      <td>4.090000</td>\n",
       "      <td>1</td>\n",
       "      <td>296.000000</td>\n",
       "      <td>15.300000</td>\n",
       "      <td>396.900000</td>\n",
       "      <td>4.980000</td>\n",
       "      <td>24.000000</td>\n",
       "    </tr>\n",
       "    <tr>\n",
       "      <th>1</th>\n",
       "      <td>0.027310</td>\n",
       "      <td>0.000000</td>\n",
       "      <td>7.070000</td>\n",
       "      <td>0</td>\n",
       "      <td>0.469000</td>\n",
       "      <td>6.421000</td>\n",
       "      <td>78.900000</td>\n",
       "      <td>4.967100</td>\n",
       "      <td>2</td>\n",
       "      <td>242.000000</td>\n",
       "      <td>17.800000</td>\n",
       "      <td>396.900000</td>\n",
       "      <td>9.140000</td>\n",
       "      <td>21.600000</td>\n",
       "    </tr>\n",
       "    <tr>\n",
       "      <th>2</th>\n",
       "      <td>0.027290</td>\n",
       "      <td>0.000000</td>\n",
       "      <td>7.070000</td>\n",
       "      <td>0</td>\n",
       "      <td>0.469000</td>\n",
       "      <td>7.185000</td>\n",
       "      <td>61.100000</td>\n",
       "      <td>4.967100</td>\n",
       "      <td>2</td>\n",
       "      <td>242.000000</td>\n",
       "      <td>17.800000</td>\n",
       "      <td>392.830000</td>\n",
       "      <td>4.030000</td>\n",
       "      <td>34.700000</td>\n",
       "    </tr>\n",
       "    <tr>\n",
       "      <th>3</th>\n",
       "      <td>0.032370</td>\n",
       "      <td>0.000000</td>\n",
       "      <td>2.180000</td>\n",
       "      <td>0</td>\n",
       "      <td>0.458000</td>\n",
       "      <td>6.998000</td>\n",
       "      <td>45.800000</td>\n",
       "      <td>6.062200</td>\n",
       "      <td>3</td>\n",
       "      <td>222.000000</td>\n",
       "      <td>18.700000</td>\n",
       "      <td>394.630000</td>\n",
       "      <td>2.940000</td>\n",
       "      <td>33.400000</td>\n",
       "    </tr>\n",
       "    <tr>\n",
       "      <th>4</th>\n",
       "      <td>0.069050</td>\n",
       "      <td>0.000000</td>\n",
       "      <td>2.180000</td>\n",
       "      <td>0</td>\n",
       "      <td>0.458000</td>\n",
       "      <td>7.147000</td>\n",
       "      <td>54.200000</td>\n",
       "      <td>6.062200</td>\n",
       "      <td>3</td>\n",
       "      <td>222.000000</td>\n",
       "      <td>18.700000</td>\n",
       "      <td>396.900000</td>\n",
       "      <td>5.330000</td>\n",
       "      <td>36.200000</td>\n",
       "    </tr>\n",
       "  </tbody>\n",
       "</table>\n",
       "</div>"
      ],
      "text/plain": [
       "      CRIM        ZN    INDUS  CHAS      NOX       RM       AGE      DIS  RAD  \\\n",
       "0 0.006320 18.000000 2.310000     0 0.538000 6.575000 65.200000 4.090000    1   \n",
       "1 0.027310  0.000000 7.070000     0 0.469000 6.421000 78.900000 4.967100    2   \n",
       "2 0.027290  0.000000 7.070000     0 0.469000 7.185000 61.100000 4.967100    2   \n",
       "3 0.032370  0.000000 2.180000     0 0.458000 6.998000 45.800000 6.062200    3   \n",
       "4 0.069050  0.000000 2.180000     0 0.458000 7.147000 54.200000 6.062200    3   \n",
       "\n",
       "         TAX   PTRATIO          B    LSTAT      MEDV  \n",
       "0 296.000000 15.300000 396.900000 4.980000 24.000000  \n",
       "1 242.000000 17.800000 396.900000 9.140000 21.600000  \n",
       "2 242.000000 17.800000 392.830000 4.030000 34.700000  \n",
       "3 222.000000 18.700000 394.630000 2.940000 33.400000  \n",
       "4 222.000000 18.700000 396.900000 5.330000 36.200000  "
      ]
     },
     "execution_count": 23,
     "metadata": {},
     "output_type": "execute_result"
    }
   ],
   "source": [
    "df.head()"
   ]
  },
  {
   "cell_type": "code",
   "execution_count": 24,
   "metadata": {},
   "outputs": [],
   "source": [
    "# Feature Normalization\n",
    "def normalize(x):\n",
    "    max_val = max(x)\n",
    "    min_val = min(x)\n",
    "    avg = np.mean(x)\n",
    "    normalized = [(i-avg)/(max_val - min_val) for i in x]\n",
    "    return normalized"
   ]
  },
  {
   "cell_type": "code",
   "execution_count": 25,
   "metadata": {},
   "outputs": [
    {
     "data": {
      "text/html": [
       "<div>\n",
       "<style scoped>\n",
       "    .dataframe tbody tr th:only-of-type {\n",
       "        vertical-align: middle;\n",
       "    }\n",
       "\n",
       "    .dataframe tbody tr th {\n",
       "        vertical-align: top;\n",
       "    }\n",
       "\n",
       "    .dataframe thead th {\n",
       "        text-align: right;\n",
       "    }\n",
       "</style>\n",
       "<table border=\"1\" class=\"dataframe\">\n",
       "  <thead>\n",
       "    <tr style=\"text-align: right;\">\n",
       "      <th></th>\n",
       "      <th>CRIM</th>\n",
       "      <th>ZN</th>\n",
       "      <th>INDUS</th>\n",
       "      <th>CHAS</th>\n",
       "      <th>NOX</th>\n",
       "      <th>RM</th>\n",
       "      <th>AGE</th>\n",
       "      <th>DIS</th>\n",
       "      <th>RAD</th>\n",
       "      <th>TAX</th>\n",
       "      <th>PTRATIO</th>\n",
       "      <th>B</th>\n",
       "      <th>LSTAT</th>\n",
       "      <th>MEDV</th>\n",
       "    </tr>\n",
       "  </thead>\n",
       "  <tbody>\n",
       "    <tr>\n",
       "      <th>0</th>\n",
       "      <td>-0.040544</td>\n",
       "      <td>0.066364</td>\n",
       "      <td>-0.323562</td>\n",
       "      <td>-0.069170</td>\n",
       "      <td>-0.034352</td>\n",
       "      <td>0.055636</td>\n",
       "      <td>-0.034757</td>\n",
       "      <td>0.026822</td>\n",
       "      <td>-0.371713</td>\n",
       "      <td>-0.214193</td>\n",
       "      <td>-0.335695</td>\n",
       "      <td>0.101432</td>\n",
       "      <td>-0.211729</td>\n",
       "      <td>0.032604</td>\n",
       "    </tr>\n",
       "    <tr>\n",
       "      <th>1</th>\n",
       "      <td>-0.040308</td>\n",
       "      <td>-0.113636</td>\n",
       "      <td>-0.149075</td>\n",
       "      <td>-0.069170</td>\n",
       "      <td>-0.176327</td>\n",
       "      <td>0.026129</td>\n",
       "      <td>0.106335</td>\n",
       "      <td>0.106581</td>\n",
       "      <td>-0.328235</td>\n",
       "      <td>-0.317246</td>\n",
       "      <td>-0.069738</td>\n",
       "      <td>0.101432</td>\n",
       "      <td>-0.096939</td>\n",
       "      <td>-0.020729</td>\n",
       "    </tr>\n",
       "    <tr>\n",
       "      <th>2</th>\n",
       "      <td>-0.040308</td>\n",
       "      <td>-0.113636</td>\n",
       "      <td>-0.149075</td>\n",
       "      <td>-0.069170</td>\n",
       "      <td>-0.176327</td>\n",
       "      <td>0.172517</td>\n",
       "      <td>-0.076981</td>\n",
       "      <td>0.106581</td>\n",
       "      <td>-0.328235</td>\n",
       "      <td>-0.317246</td>\n",
       "      <td>-0.069738</td>\n",
       "      <td>0.091169</td>\n",
       "      <td>-0.237943</td>\n",
       "      <td>0.270382</td>\n",
       "    </tr>\n",
       "    <tr>\n",
       "      <th>3</th>\n",
       "      <td>-0.040251</td>\n",
       "      <td>-0.113636</td>\n",
       "      <td>-0.328328</td>\n",
       "      <td>-0.069170</td>\n",
       "      <td>-0.198961</td>\n",
       "      <td>0.136686</td>\n",
       "      <td>-0.234551</td>\n",
       "      <td>0.206163</td>\n",
       "      <td>-0.284757</td>\n",
       "      <td>-0.355414</td>\n",
       "      <td>0.026007</td>\n",
       "      <td>0.095708</td>\n",
       "      <td>-0.268021</td>\n",
       "      <td>0.241493</td>\n",
       "    </tr>\n",
       "    <tr>\n",
       "      <th>4</th>\n",
       "      <td>-0.039839</td>\n",
       "      <td>-0.113636</td>\n",
       "      <td>-0.328328</td>\n",
       "      <td>-0.069170</td>\n",
       "      <td>-0.198961</td>\n",
       "      <td>0.165236</td>\n",
       "      <td>-0.148042</td>\n",
       "      <td>0.206163</td>\n",
       "      <td>-0.284757</td>\n",
       "      <td>-0.355414</td>\n",
       "      <td>0.026007</td>\n",
       "      <td>0.101432</td>\n",
       "      <td>-0.202071</td>\n",
       "      <td>0.303715</td>\n",
       "    </tr>\n",
       "  </tbody>\n",
       "</table>\n",
       "</div>"
      ],
      "text/plain": [
       "       CRIM        ZN     INDUS      CHAS       NOX       RM       AGE  \\\n",
       "0 -0.040544  0.066364 -0.323562 -0.069170 -0.034352 0.055636 -0.034757   \n",
       "1 -0.040308 -0.113636 -0.149075 -0.069170 -0.176327 0.026129  0.106335   \n",
       "2 -0.040308 -0.113636 -0.149075 -0.069170 -0.176327 0.172517 -0.076981   \n",
       "3 -0.040251 -0.113636 -0.328328 -0.069170 -0.198961 0.136686 -0.234551   \n",
       "4 -0.039839 -0.113636 -0.328328 -0.069170 -0.198961 0.165236 -0.148042   \n",
       "\n",
       "       DIS       RAD       TAX   PTRATIO        B     LSTAT      MEDV  \n",
       "0 0.026822 -0.371713 -0.214193 -0.335695 0.101432 -0.211729  0.032604  \n",
       "1 0.106581 -0.328235 -0.317246 -0.069738 0.101432 -0.096939 -0.020729  \n",
       "2 0.106581 -0.328235 -0.317246 -0.069738 0.091169 -0.237943  0.270382  \n",
       "3 0.206163 -0.284757 -0.355414  0.026007 0.095708 -0.268021  0.241493  \n",
       "4 0.206163 -0.284757 -0.355414  0.026007 0.101432 -0.202071  0.303715  "
      ]
     },
     "execution_count": 25,
     "metadata": {},
     "output_type": "execute_result"
    }
   ],
   "source": [
    "df = df.apply(normalize,axis=0)\n",
    "df.head()"
   ]
  },
  {
   "cell_type": "code",
   "execution_count": 26,
   "metadata": {},
   "outputs": [
    {
     "data": {
      "text/html": [
       "<div>\n",
       "<style scoped>\n",
       "    .dataframe tbody tr th:only-of-type {\n",
       "        vertical-align: middle;\n",
       "    }\n",
       "\n",
       "    .dataframe tbody tr th {\n",
       "        vertical-align: top;\n",
       "    }\n",
       "\n",
       "    .dataframe thead th {\n",
       "        text-align: right;\n",
       "    }\n",
       "</style>\n",
       "<table border=\"1\" class=\"dataframe\">\n",
       "  <thead>\n",
       "    <tr style=\"text-align: right;\">\n",
       "      <th></th>\n",
       "      <th>X0</th>\n",
       "      <th>CRIM</th>\n",
       "      <th>ZN</th>\n",
       "      <th>INDUS</th>\n",
       "      <th>CHAS</th>\n",
       "      <th>NOX</th>\n",
       "      <th>RM</th>\n",
       "      <th>AGE</th>\n",
       "      <th>DIS</th>\n",
       "      <th>RAD</th>\n",
       "      <th>TAX</th>\n",
       "      <th>PTRATIO</th>\n",
       "      <th>B</th>\n",
       "      <th>LSTAT</th>\n",
       "    </tr>\n",
       "  </thead>\n",
       "  <tbody>\n",
       "    <tr>\n",
       "      <th>0</th>\n",
       "      <td>1</td>\n",
       "      <td>-0.040544</td>\n",
       "      <td>0.066364</td>\n",
       "      <td>-0.323562</td>\n",
       "      <td>-0.069170</td>\n",
       "      <td>-0.034352</td>\n",
       "      <td>0.055636</td>\n",
       "      <td>-0.034757</td>\n",
       "      <td>0.026822</td>\n",
       "      <td>-0.371713</td>\n",
       "      <td>-0.214193</td>\n",
       "      <td>-0.335695</td>\n",
       "      <td>0.101432</td>\n",
       "      <td>-0.211729</td>\n",
       "    </tr>\n",
       "    <tr>\n",
       "      <th>1</th>\n",
       "      <td>1</td>\n",
       "      <td>-0.040308</td>\n",
       "      <td>-0.113636</td>\n",
       "      <td>-0.149075</td>\n",
       "      <td>-0.069170</td>\n",
       "      <td>-0.176327</td>\n",
       "      <td>0.026129</td>\n",
       "      <td>0.106335</td>\n",
       "      <td>0.106581</td>\n",
       "      <td>-0.328235</td>\n",
       "      <td>-0.317246</td>\n",
       "      <td>-0.069738</td>\n",
       "      <td>0.101432</td>\n",
       "      <td>-0.096939</td>\n",
       "    </tr>\n",
       "    <tr>\n",
       "      <th>2</th>\n",
       "      <td>1</td>\n",
       "      <td>-0.040308</td>\n",
       "      <td>-0.113636</td>\n",
       "      <td>-0.149075</td>\n",
       "      <td>-0.069170</td>\n",
       "      <td>-0.176327</td>\n",
       "      <td>0.172517</td>\n",
       "      <td>-0.076981</td>\n",
       "      <td>0.106581</td>\n",
       "      <td>-0.328235</td>\n",
       "      <td>-0.317246</td>\n",
       "      <td>-0.069738</td>\n",
       "      <td>0.091169</td>\n",
       "      <td>-0.237943</td>\n",
       "    </tr>\n",
       "    <tr>\n",
       "      <th>3</th>\n",
       "      <td>1</td>\n",
       "      <td>-0.040251</td>\n",
       "      <td>-0.113636</td>\n",
       "      <td>-0.328328</td>\n",
       "      <td>-0.069170</td>\n",
       "      <td>-0.198961</td>\n",
       "      <td>0.136686</td>\n",
       "      <td>-0.234551</td>\n",
       "      <td>0.206163</td>\n",
       "      <td>-0.284757</td>\n",
       "      <td>-0.355414</td>\n",
       "      <td>0.026007</td>\n",
       "      <td>0.095708</td>\n",
       "      <td>-0.268021</td>\n",
       "    </tr>\n",
       "    <tr>\n",
       "      <th>4</th>\n",
       "      <td>1</td>\n",
       "      <td>-0.039839</td>\n",
       "      <td>-0.113636</td>\n",
       "      <td>-0.328328</td>\n",
       "      <td>-0.069170</td>\n",
       "      <td>-0.198961</td>\n",
       "      <td>0.165236</td>\n",
       "      <td>-0.148042</td>\n",
       "      <td>0.206163</td>\n",
       "      <td>-0.284757</td>\n",
       "      <td>-0.355414</td>\n",
       "      <td>0.026007</td>\n",
       "      <td>0.101432</td>\n",
       "      <td>-0.202071</td>\n",
       "    </tr>\n",
       "  </tbody>\n",
       "</table>\n",
       "</div>"
      ],
      "text/plain": [
       "   X0      CRIM        ZN     INDUS      CHAS       NOX       RM       AGE  \\\n",
       "0   1 -0.040544  0.066364 -0.323562 -0.069170 -0.034352 0.055636 -0.034757   \n",
       "1   1 -0.040308 -0.113636 -0.149075 -0.069170 -0.176327 0.026129  0.106335   \n",
       "2   1 -0.040308 -0.113636 -0.149075 -0.069170 -0.176327 0.172517 -0.076981   \n",
       "3   1 -0.040251 -0.113636 -0.328328 -0.069170 -0.198961 0.136686 -0.234551   \n",
       "4   1 -0.039839 -0.113636 -0.328328 -0.069170 -0.198961 0.165236 -0.148042   \n",
       "\n",
       "       DIS       RAD       TAX   PTRATIO        B     LSTAT  \n",
       "0 0.026822 -0.371713 -0.214193 -0.335695 0.101432 -0.211729  \n",
       "1 0.106581 -0.328235 -0.317246 -0.069738 0.101432 -0.096939  \n",
       "2 0.106581 -0.328235 -0.317246 -0.069738 0.091169 -0.237943  \n",
       "3 0.206163 -0.284757 -0.355414  0.026007 0.095708 -0.268021  \n",
       "4 0.206163 -0.284757 -0.355414  0.026007 0.101432 -0.202071  "
      ]
     },
     "execution_count": 26,
     "metadata": {},
     "output_type": "execute_result"
    }
   ],
   "source": [
    "# Create X0 column\n",
    "Xd = df.drop(columns=['MEDV'])\n",
    "Xd.insert(0, 'X0', 1)\n",
    "Xd.head()"
   ]
  },
  {
   "cell_type": "code",
   "execution_count": 27,
   "metadata": {},
   "outputs": [
    {
     "data": {
      "text/plain": [
       "X0         1.000000\n",
       "CRIM      -0.040544\n",
       "ZN         0.066364\n",
       "INDUS     -0.323562\n",
       "CHAS      -0.069170\n",
       "NOX       -0.034352\n",
       "RM         0.055636\n",
       "AGE       -0.034757\n",
       "DIS        0.026822\n",
       "RAD       -0.371713\n",
       "TAX       -0.214193\n",
       "PTRATIO   -0.335695\n",
       "B          0.101432\n",
       "LSTAT     -0.211729\n",
       "Name: 0, dtype: float64"
      ]
     },
     "execution_count": 27,
     "metadata": {},
     "output_type": "execute_result"
    }
   ],
   "source": [
    "Xd.iloc[0,:]"
   ]
  },
  {
   "cell_type": "code",
   "execution_count": 71,
   "metadata": {},
   "outputs": [
    {
     "name": "stdout",
     "output_type": "stream",
     "text": [
      "Sample Size : 506, Features : 14\n"
     ]
    }
   ],
   "source": [
    "# numpy array format\n",
    "X = Xd.values\n",
    "m = len(Xd.index)\n",
    "y = df.MEDV.to_numpy().reshape(m,1)\n",
    "n = Xd.shape[1]\n",
    "alpha = 0.0005\n",
    "iterations = 100000\n",
    "print('Sample Size : {}, Features : {}'.format(m,n))"
   ]
  },
  {
   "cell_type": "code",
   "execution_count": 82,
   "metadata": {},
   "outputs": [],
   "source": [
    "#Initialize Theta\n",
    "theta = np.ones((n,1))"
   ]
  },
  {
   "cell_type": "markdown",
   "metadata": {},
   "source": [
    "### Without Vectorization (Loop)"
   ]
  },
  {
   "cell_type": "code",
   "execution_count": 96,
   "metadata": {},
   "outputs": [],
   "source": [
    "# Hypothesis Function\n",
    "def hypothesis_l(X,theta):\n",
    "    n = len(theta)\n",
    "    m = len(X)\n",
    "    h = np.zeros((m,1))\n",
    "    for i in range(0,m):\n",
    "        sm=0\n",
    "        for j in range(0,n):\n",
    "            sm += X[i,j] * theta[j,0]\n",
    "        h[i,0]=sm \n",
    "    return h\n",
    "\n",
    "#Cost Function\n",
    "def cost_l(h,y):\n",
    "    m = len(h)\n",
    "    cost = 0\n",
    "    for i in range(m):\n",
    "        cost += (h[i] - y[i]) ** 2\n",
    "    return cost / (2*m)\n",
    "\n",
    "#Gradient Descent Function\n",
    "def gradient_descent_l(X,h,y, alpha,theta):\n",
    "    f = X.shape[1]\n",
    "    new_thetas = np.zeros((f,1))\n",
    "    for j in range(n):\n",
    "        th = 0\n",
    "        for i in range(m):\n",
    "            th += (h[i,0] - y[i,0]) * X[i,j] \n",
    "        new_thetas[j,0] = theta[j,0] - (alpha * (1/m) * th)\n",
    "#         new_thetas[j,0] = theta[j,0] - ((1/m) * th)\n",
    "    return new_thetas"
   ]
  },
  {
   "cell_type": "code",
   "execution_count": 83,
   "metadata": {},
   "outputs": [
    {
     "name": "stdout",
     "output_type": "stream",
     "text": [
      "Wall time: 9 ms\n"
     ]
    },
    {
     "data": {
      "text/plain": [
       "array([1.399752908228425])"
      ]
     },
     "execution_count": 83,
     "metadata": {},
     "output_type": "execute_result"
    }
   ],
   "source": [
    "%%time\n",
    "h = hypothesis_l(X,theta)\n",
    "cost_l(h,y)"
   ]
  },
  {
   "attachments": {
    "image.png": {
     "image/png": "[encoded data removed]"
    }
   },
   "cell_type": "markdown",
   "metadata": {},
   "source": [
    "![image.png](attachment:image.png)"
   ]
  },
  {
   "cell_type": "markdown",
   "metadata": {},
   "source": [
    "### With Vectorization"
   ]
  },
  {
   "cell_type": "code",
   "execution_count": 67,
   "metadata": {},
   "outputs": [],
   "source": [
    "# Hypothesis Function\n",
    "def hypothesis_v(X,theta):\n",
    "    return X@theta\n",
    "\n",
    "#Cost Function\n",
    "def cost_v(h,y):\n",
    "    return np.sum((h - y) ** 2) * (1/(2*m))\n",
    "\n",
    "#Gradient Descent Function\n",
    "def gradient_descent_v(X,h,y, alpha,theta):    \n",
    "    f = X.shape[1]\n",
    "    new_thetas = np.zeros((f,1))\n",
    "    for j in range(n):\n",
    "        th = 0\n",
    "        for i in range(m):\n",
    "            th += (h[i,0] - y[i,0]) * X[i,j] \n",
    "        new_thetas[j,0] = theta[j,0] - (alpha * (1/m) * th)\n",
    "    return new_thetas"
   ]
  },
  {
   "cell_type": "code",
   "execution_count": 84,
   "metadata": {},
   "outputs": [
    {
     "data": {
      "text/plain": [
       "array([[0.9995           ],\n",
       "       [0.999960926898198],\n",
       "       [1.000055214611307],\n",
       "       [0.999868984882972],\n",
       "       [0.999972477804582],\n",
       "       [0.999880537287187],\n",
       "       [1.000032271279119],\n",
       "       [0.999869418280294],\n",
       "       [1.000072683859053],\n",
       "       [0.999784468065011],\n",
       "       [0.999808482723599],\n",
       "       [0.999917042437986],\n",
       "       [1.00004960398653 ],\n",
       "       [0.999908235951587]])"
      ]
     },
     "execution_count": 84,
     "metadata": {},
     "output_type": "execute_result"
    }
   ],
   "source": [
    "\n",
    "gradient_descent_l(X,h,y, alpha,theta)"
   ]
  },
  {
   "cell_type": "code",
   "execution_count": 94,
   "metadata": {},
   "outputs": [
    {
     "data": {
      "text/plain": [
       "[0.9999999999999983,\n",
       " 0.07814620360307896,\n",
       " -0.11042922261438312,\n",
       " 0.2620302340552935,\n",
       " 0.05504439083525137,\n",
       " 0.23892542562534522,\n",
       " -0.06454255823702781,\n",
       " 0.2611634394125097,\n",
       " -0.1453677181065729,\n",
       " 0.43106386997897883,\n",
       " 0.38303455280215737,\n",
       " 0.16591512402899722,\n",
       " -0.09920797306076043,\n",
       " 0.18352809682583576]"
      ]
     },
     "execution_count": 94,
     "metadata": {},
     "output_type": "execute_result"
    }
   ],
   "source": [
    "dev_list = []\n",
    "for k in range(n):\n",
    "    dev_sum = 0\n",
    "    for i in range(m):\n",
    "        hypo_i = 0\n",
    "        for j in range(n):\n",
    "            hypo_i += theta[j,0]*X[i,j]\n",
    "        dev_i = (hypo_i - y[i,0])*X[i,k]\n",
    "        dev_sum += dev_i\n",
    "    dev_sum = (1/m)*dev_sum\n",
    "    \n",
    "    dev_list.append(dev_sum)\n",
    "dev_list"
   ]
  },
  {
   "cell_type": "code",
   "execution_count": 100,
   "metadata": {},
   "outputs": [
    {
     "name": "stdout",
     "output_type": "stream",
     "text": [
      "Wall time: 69 ms\n"
     ]
    },
    {
     "data": {
      "text/plain": [
       "array([[0.000000000000002],\n",
       "       [0.921853796396922],\n",
       "       [1.110429222614383],\n",
       "       [0.737969765944707],\n",
       "       [0.94495560916475 ],\n",
       "       [0.761074574374656],\n",
       "       [1.064542558237027],\n",
       "       [0.738836560587491],\n",
       "       [1.145367718106573],\n",
       "       [0.568936130021021],\n",
       "       [0.616965447197844],\n",
       "       [0.834084875971002],\n",
       "       [1.099207973060762],\n",
       "       [0.816471903174164]])"
      ]
     },
     "execution_count": 100,
     "metadata": {},
     "output_type": "execute_result"
    }
   ],
   "source": [
    "%%time\n",
    "initial_theta = theta\n",
    "for i in range(m):\n",
    "    th = np.zeros((n,1)) \n",
    "    err = h[i,0] - y[i,0]\n",
    "    for k in range(n):       \n",
    "        th[k,0] = initial_theta[k,0] - ((1/m) * np.sum(err * X[i,k]))\n",
    "    initial_theta = th\n",
    "initial_theta"
   ]
  },
  {
   "cell_type": "code",
   "execution_count": null,
   "metadata": {},
   "outputs": [],
   "source": []
  }
 ],
 "metadata": {
  "kernelspec": {
   "display_name": "Python 3",
   "language": "python",
   "name": "python3"
  },
  "language_info": {
   "codemirror_mode": {
    "name": "ipython",
    "version": 3
   },
   "file_extension": ".py",
   "mimetype": "text/x-python",
   "name": "python",
   "nbconvert_exporter": "python",
   "pygments_lexer": "ipython3",
   "version": "3.7.6"
  }
 },
 "nbformat": 4,
 "nbformat_minor": 4
}
