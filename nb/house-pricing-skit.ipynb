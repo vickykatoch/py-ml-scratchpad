{
 "cells": [
  {
   "cell_type": "code",
   "execution_count": 35,
   "metadata": {},
   "outputs": [],
   "source": [
    "from sklearn.linear_model import LinearRegression\n",
    "import pandas as pd\n",
    "import numpy as np\n",
    "from IPython.core.pylabtools import figsize\n",
    "pd.options.display.float_format = '{:,.6f}'.format\n",
    "np.set_printoptions(precision=15,suppress=True)"
   ]
  },
  {
   "cell_type": "code",
   "execution_count": 4,
   "metadata": {},
   "outputs": [],
   "source": [
    "columns = ['CRIM','ZN','INDUS','CHAS','NOX','RM','AGE','DIS','RAD','TAX','PTRATIO','B','LSTAT','MEDV']\n",
    "df = pd.read_csv('../data/housing.data', header=None, names=columns, sep='\\s+')"
   ]
  },
  {
   "cell_type": "code",
   "execution_count": 30,
   "metadata": {},
   "outputs": [],
   "source": [
    "# Feature Normalization\n",
    "def normalize(x):\n",
    "    max_val = max(x)\n",
    "    min_val = min(x)\n",
    "    avg = np.mean(x)\n",
    "    normalized = [(i-avg)/(max_val - min_val) for i in x]\n",
    "    return normalized"
   ]
  },
  {
   "cell_type": "code",
   "execution_count": 39,
   "metadata": {},
   "outputs": [],
   "source": [
    "df = df.apply(normalize,axis=0)\n",
    "# Create X0 column\n",
    "Xd = df.drop(columns=['MEDV'])\n",
    "X = Xd.values\n",
    "m = len(Xd.index)\n",
    "y = df.MEDV.to_numpy().reshape(m,1)"
   ]
  },
  {
   "cell_type": "code",
   "execution_count": 40,
   "metadata": {},
   "outputs": [
    {
     "name": "stdout",
     "output_type": "stream",
     "text": [
      "Intercept : [-0.], Thetas : [[-0.213550167675041  0.103156574148625  0.012463096162082\n",
      "   0.059705195985442 -0.191879401265641  0.441859700318606\n",
      "   0.001493666946166 -0.36059246765292   0.156425289259088\n",
      "  -0.143629493606333 -0.199018310623301  0.08206283006047\n",
      "  -0.422605413632954]]\n"
     ]
    }
   ],
   "source": [
    "lg = LinearRegression()\n",
    "lg.fit(X,y)\n",
    "print(f\"Intercept : {lg.intercept_}, Thetas : {lg.coef_}\")"
   ]
  },
  {
   "cell_type": "code",
   "execution_count": 19,
   "metadata": {},
   "outputs": [
    {
     "data": {
      "text/plain": [
       "array([[24.        , 30.00384338],\n",
       "       [21.6       , 25.02556238],\n",
       "       [34.7       , 30.56759672],\n",
       "       ...,\n",
       "       [23.9       , 27.6274261 ],\n",
       "       [22.        , 26.12796681],\n",
       "       [11.9       , 22.34421229]])"
      ]
     },
     "execution_count": 19,
     "metadata": {},
     "output_type": "execute_result"
    }
   ],
   "source": [
    "h = lg.predict(df1).reshape(len(df1),1)\n",
    "y = df.MEDV.to_numpy().reshape(len(df1),1)\n",
    "np.hstack([y,h])"
   ]
  },
  {
   "cell_type": "code",
   "execution_count": 41,
   "metadata": {},
   "outputs": [
    {
     "data": {
      "text/plain": [
       "array([[ 0.032604303908652,  0.166023045620136],\n",
       "       [-0.020729029424682,  0.055394578998722],\n",
       "       [ 0.27038208168643 ,  0.178550897655354],\n",
       "       ...,\n",
       "       [ 0.030382081686429,  0.113213772687227],\n",
       "       [-0.011840140535793,  0.079892455166336],\n",
       "       [-0.236284584980237, -0.004190978471268]])"
      ]
     },
     "execution_count": 41,
     "metadata": {},
     "output_type": "execute_result"
    }
   ],
   "source": [
    "h = lg.predict(X).reshape(len(X),1)\n",
    "np.hstack([y,h])"
   ]
  },
  {
   "cell_type": "code",
   "execution_count": 42,
   "metadata": {},
   "outputs": [
    {
     "data": {
      "text/plain": [
       "array([[-0.040544098264629,  0.066363636363636, -0.323562267453317, ...,\n",
       "        -0.335695063493398,  0.10143216596764 , -0.211729118132084],\n",
       "       [-0.040308175725451, -0.113636363636364, -0.149075463934255, ...,\n",
       "        -0.069737616684888,  0.10143216596764 , -0.096938831156366],\n",
       "       [-0.040308400520628, -0.113636363636364, -0.149075463934255, ...,\n",
       "        -0.069737616684888,  0.091169419485215, -0.237943246167404],\n",
       "       ...,\n",
       "       [-0.039932205790457, -0.113636363636364,  0.029077028734366, ...,\n",
       "         0.270687915230006,  0.10143216596764 , -0.193517197602283],\n",
       "       [-0.039383368363678, -0.113636363636364,  0.029077028734366, ...,\n",
       "         0.270687915230006,  0.092732786271236, -0.170338389655263],\n",
       "       [-0.040082256571688, -0.113636363636364,  0.029077028734366, ...,\n",
       "         0.270687915230006,  0.10143216596764 , -0.131707043076896]])"
      ]
     },
     "execution_count": 42,
     "metadata": {},
     "output_type": "execute_result"
    }
   ],
   "source": [
    "X"
   ]
  }
 ],
 "metadata": {
  "kernelspec": {
   "display_name": "Python 3",
   "language": "python",
   "name": "python3"
  },
  "language_info": {
   "codemirror_mode": {
    "name": "ipython",
    "version": 3
   },
   "file_extension": ".py",
   "mimetype": "text/x-python",
   "name": "python",
   "nbconvert_exporter": "python",
   "pygments_lexer": "ipython3",
   "version": "3.7.6"
  }
 },
 "nbformat": 4,
 "nbformat_minor": 4
}
