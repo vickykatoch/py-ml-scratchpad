{
 "cells": [
  {
   "cell_type": "code",
   "execution_count": 12,
   "metadata": {},
   "outputs": [],
   "source": [
    "import pandas as pd  \n",
    "import numpy as np  \n",
    "import matplotlib.pyplot as plt\n",
    "from sklearn.model_selection import train_test_split \n",
    "import data_helper as dh"
   ]
  },
  {
   "cell_type": "code",
   "execution_count": 4,
   "metadata": {},
   "outputs": [
    {
     "name": "stderr",
     "output_type": "stream",
     "text": [
      "/opt/anaconda3/lib/python3.7/site-packages/IPython/core/interactiveshell.py:3063: DtypeWarning: Columns (7,8,18,25) have mixed types.Specify dtype option on import or set low_memory=False.\n",
      "  interactivity=interactivity, compiler=compiler, result=result)\n"
     ]
    }
   ],
   "source": [
    "df = pd.read_csv('../data/weather.csv')\n",
    "X_train, X_test, y_train, y_test = train_test_split(df['MinTemp'], df['MaxTemp'], test_size=0.2, random_state=0)"
   ]
  },
  {
   "cell_type": "code",
   "execution_count": 52,
   "metadata": {},
   "outputs": [],
   "source": [
    "m = len(X_train)\n",
    "X = X_train.to_numpy().reshape(m,1)\n",
    "y = y_train.to_numpy().reshape(m,1)\n",
    "\n",
    "initial_theta = np.array([[0], [0]])\n",
    "X = np.hstack([np.ones([m, 1]),X])\n",
    "iterations = 300\n",
    "alpha = 0.05"
   ]
  },
  {
   "cell_type": "code",
   "execution_count": 53,
   "metadata": {},
   "outputs": [
    {
     "name": "stdout",
     "output_type": "stream",
     "text": [
      "Slope : nan, Y Intercept : nan\n"
     ]
    }
   ],
   "source": [
    "[costs, thetas] = dh.gradient_descent(X, y, initial_theta, alpha, iterations)\n",
    "title = \"Slope : {}, Y Intercept : {}\".format(thetas[0,0],thetas[1,0])\n",
    "print(title)"
   ]
  },
  {
   "cell_type": "code",
   "execution_count": 63,
   "metadata": {},
   "outputs": [
    {
     "data": {
      "image/png": "[encoded data removed]",
      "text/plain": [
       "<Figure size 432x288 with 1 Axes>"
      ]
     },
     "metadata": {
      "needs_background": "light"
     },
     "output_type": "display_data"
    }
   ],
   "source": [
    "plt.scatter(X_train, y_train,c='g')\n",
    "y_pred = np.matmul(X, thetas)\n",
    "plt.plot(X_train, y_pred, c='r')\n",
    "plt.show()"
   ]
  },
  {
   "cell_type": "code",
   "execution_count": 80,
   "metadata": {},
   "outputs": [
    {
     "name": "stdout",
     "output_type": "stream",
     "text": [
      "X : (95232, 2), Shapes theta : (2, 1), h: (95232, 1)\n"
     ]
    },
    {
     "data": {
      "text/plain": [
       "array([[-27.22222222],\n",
       "       [-32.77777778],\n",
       "       [ -8.88888889],\n",
       "       ...,\n",
       "       [ -4.44444444],\n",
       "       [-14.44444444],\n",
       "       [-21.11111111]])"
      ]
     },
     "execution_count": 80,
     "metadata": {},
     "output_type": "execute_result"
    }
   ],
   "source": [
    "theta=initial_theta\n",
    "h = np.matmul(X, theta) - y\n",
    "print(\"X : {}, Shapes theta : {}, h: {}\".format( X.shape,theta.shape, h.shape))\n",
    "nn = np.multiply(h, X)\n",
    "np.sum(nn,axis=0)\n"
   ]
  },
  {
   "cell_type": "code",
   "execution_count": 75,
   "metadata": {},
   "outputs": [],
   "source": [
    "a = np.array([[3],[4],[5]])\n",
    "b = np.array([\n",
    "    [2,3],\n",
    "    [3,5],\n",
    "    [6,2]\n",
    "])"
   ]
  },
  {
   "cell_type": "code",
   "execution_count": 79,
   "metadata": {},
   "outputs": [
    {
     "data": {
      "text/plain": [
       "34.44444444"
      ]
     },
     "execution_count": 79,
     "metadata": {},
     "output_type": "execute_result"
    }
   ],
   "source": [
    "X.max()"
   ]
  },
  {
   "cell_type": "code",
   "execution_count": null,
   "metadata": {},
   "outputs": [],
   "source": []
  }
 ],
 "metadata": {
  "kernelspec": {
   "display_name": "Python 3",
   "language": "python",
   "name": "python3"
  },
  "language_info": {
   "codemirror_mode": {
    "name": "ipython",
    "version": 3
   },
   "file_extension": ".py",
   "mimetype": "text/x-python",
   "name": "python",
   "nbconvert_exporter": "python",
   "pygments_lexer": "ipython3",
   "version": "3.7.6"
  }
 },
 "nbformat": 4,
 "nbformat_minor": 4
}
